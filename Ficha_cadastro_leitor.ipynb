{
 "cells": [
  {
   "cell_type": "markdown",
   "metadata": {},
   "source": [
    "# Código para criação da ficha cadastro de leitor"
   ]
  },
  {
   "cell_type": "markdown",
   "metadata": {},
   "source": [
    "### Dados a serem inseridos:"
   ]
  },
  {
   "cell_type": "code",
   "execution_count": 16,
   "metadata": {},
   "outputs": [],
   "source": [
    "Leitor_Nome = input(\"Insira o nome do cliente\")\n",
    "Sexo = input(\"Insira o sexo do cliente\")\n",
    "Leitor_CPF = input(\"Insira o CPF do cliente\")\n",
    "Email = input(\"Insira o email do cliente\")\n",
    "Telefone = input(\"Insira o telefone do cliente\")\n",
    "Endereco = input(\"Insira o endereço do cliente\")\n",
    "Data_da_inscricao = input(\"Insira a data do registro\")"
   ]
  },
  {
   "cell_type": "markdown",
   "metadata": {},
   "source": [
    "### Gerando o PDF"
   ]
  },
  {
   "cell_type": "code",
   "execution_count": 17,
   "metadata": {},
   "outputs": [],
   "source": [
    "from fpdf import FPDF"
   ]
  },
  {
   "cell_type": "code",
   "execution_count": 18,
   "metadata": {},
   "outputs": [
    {
     "data": {
      "text/plain": [
       "''"
      ]
     },
     "execution_count": 18,
     "metadata": {},
     "output_type": "execute_result"
    }
   ],
   "source": [
    "Ficha = FPDF()\n",
    "Ficha.add_page()\n",
    "Ficha.set_font(\"Arial\")\n",
    "Ficha.image(\"fundo.jpg\")\n",
    "Ficha.text(110,68,Leitor_Nome)\n",
    "Ficha.text(110,86,Sexo)\n",
    "Ficha.text(110,104,Leitor_CPF)\n",
    "Ficha.text(110,122,Email)\n",
    "Ficha.text(110,140,Telefone)\n",
    "Ficha.text(110,158,Endereco)\n",
    "Ficha.text(110,200,Data_da_inscricao)\n",
    "Ficha.output(\"Ficha_cadastro.pdf\")\n",
    "print(\"PDF criado com sucesso!\") "
   ]
  }
 ],
 "metadata": {
  "kernelspec": {
   "display_name": "Python 3",
   "language": "python",
   "name": "python3"
  },
  "language_info": {
   "codemirror_mode": {
    "name": "ipython",
    "version": 3
   },
   "file_extension": ".py",
   "mimetype": "text/x-python",
   "name": "python",
   "nbconvert_exporter": "python",
   "pygments_lexer": "ipython3",
   "version": "3.12.3"
  }
 },
 "nbformat": 4,
 "nbformat_minor": 2
}
